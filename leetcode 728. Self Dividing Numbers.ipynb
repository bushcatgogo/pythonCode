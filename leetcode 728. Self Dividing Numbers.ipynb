{
 "cells": [
  {
   "cell_type": "markdown",
   "metadata": {},
   "source": [
    "## leetcode 728. Self Dividing Numbers"
   ]
  },
  {
   "cell_type": "markdown",
   "metadata": {},
   "source": [
    "A self-dividing number is a number that is divisible by every digit it contains.\n",
    "\n",
    "For example, 128 is a self-dividing number because 128 % 1 == 0, 128 % 2 == 0, and 128 % 8 == 0.\n",
    "\n",
    "Also, a self-dividing number is not allowed to contain the digit zero.\n",
    "\n",
    "Given a lower and upper number bound, output a list of every possible self dividing number, including the bounds if possible.\n",
    "\n",
    "Example 1:\n",
    "Input: \n",
    "left = 1, right = 22\n",
    "Output: [1, 2, 3, 4, 5, 6, 7, 8, 9, 11, 12, 15, 22]\n",
    "Note:\n",
    "\n",
    "The boundaries of each input argument are 1 <= left <= right <= 10000.\n",
    "\n",
    "**难度**：简单， **通过率**：67%\n"
   ]
  },
  {
   "cell_type": "markdown",
   "metadata": {},
   "source": [
    "### 读题"
   ]
  },
  {
   "cell_type": "markdown",
   "metadata": {},
   "source": [
    "题目要求找出指定范围内所有的自整除数，自整除数即是该数可以整除其每一位上的数字。\n",
    "<p>例如整数 24， 它能整除每一位 2， 4 所以它是一个自除整数</p>"
   ]
  },
  {
   "cell_type": "markdown",
   "metadata": {},
   "source": [
    "### 解题"
   ]
  },
  {
   "cell_type": "markdown",
   "metadata": {},
   "source": [
    "该题解法非常直接，先写一个子函数isSelfDiv用于判断输入整数是否是自除整数，它的实现方式有两种，一是将整数转换成字符串依次判断每个字符对应数字是否能被整除，另一种是用求余和整除10运算依次判断个位数字是否能被整除\n",
    "最后在主函数selfDividingNumbers中依次对每个数字调用子函数，如果返回为真则加入结果列表中\n",
    "代码实现如下"
   ]
  },
  {
   "cell_type": "code",
   "execution_count": 15,
   "metadata": {},
   "outputs": [],
   "source": [
    "class Solution(object):\n",
    "    def isSelfDiv(self, n):\n",
    "        t = n\n",
    "        while n:\n",
    "            r = n%10\n",
    "            if r ==0 or t%r != 0:\n",
    "                return False\n",
    "            n = n/10\n",
    "        return True\n",
    "    \n",
    "    def selfDividingNumbers(self, left, right):\n",
    "        \"\"\"\n",
    "        :type left: int\n",
    "        :type right: int\n",
    "        :rtype: List[int]\n",
    "        \"\"\"    \n",
    "        res = []\n",
    "        for num in range(left,right+1):\n",
    "            if self.isSelfDiv(num):\n",
    "                res.append(num)\n",
    "        return res"
   ]
  },
  {
   "cell_type": "markdown",
   "metadata": {},
   "source": [
    "另外，我们试试python的高级语言性能来写一个lambda表达式的题解， 代码如下"
   ]
  },
  {
   "cell_type": "code",
   "execution_count": null,
   "metadata": {},
   "outputs": [],
   "source": [
    "class Solution2(object):\n",
    "    def selfDividingNumbers(self, left, right):\n",
    "        is_self_dividing = lambda num: '0' not in str(num) and all(num % int(digit) == 0 for digit in str(num))\n",
    "        return filter(is_self_dividing, range(left, right + 1))"
   ]
  },
  {
   "cell_type": "code",
   "execution_count": null,
   "metadata": {},
   "outputs": [],
   "source": [
    "虽然代码只有两行，但并不容易阐述，拆分来看会比较容易理解：\n",
    "\n",
    "#创建一个filter lambda表达式\n",
    "is_self_dividing = \n",
    "    #应用于输入参数num\n",
    "    lambda num: \n",
    "    #num中不含0 并且\n",
    "    '0' not in str(num) and  \n",
    "    #对于所有num字符串形式中的字符，该字符的整形都能够被num整除\n",
    "    all(num % int(digit) == 0 for digit in str(num))\n",
    "    #则结果为真\n",
    "    \n",
    "#最后对range中的每一个数应用filter函数\n",
    "filter(is_self_dividing, range(left, right + 1))\n"
   ]
  },
  {
   "cell_type": "markdown",
   "metadata": {},
   "source": [
    "最后，实际面试中还是以代码可读性为前提，这样最容易清晰的给面试官阐述解题思路，炫技大可不必。"
   ]
  },
  {
   "cell_type": "code",
   "execution_count": null,
   "metadata": {},
   "outputs": [],
   "source": []
  }
 ],
 "metadata": {
  "kernelspec": {
   "display_name": "Python 3",
   "language": "python",
   "name": "python3"
  },
  "language_info": {
   "codemirror_mode": {
    "name": "ipython",
    "version": 3
   },
   "file_extension": ".py",
   "mimetype": "text/x-python",
   "name": "python",
   "nbconvert_exporter": "python",
   "pygments_lexer": "ipython3",
   "version": "3.6.3"
  }
 },
 "nbformat": 4,
 "nbformat_minor": 2
}
