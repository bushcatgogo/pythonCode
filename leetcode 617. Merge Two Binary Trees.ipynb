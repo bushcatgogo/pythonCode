{
 "cells": [
  {
   "cell_type": "markdown",
   "metadata": {},
   "source": [
    "## leetcode 617. Merge Two Binary Trees"
   ]
  },
  {
   "cell_type": "markdown",
   "metadata": {},
   "source": [
    "Given two binary trees and imagine that when you put one of them to cover the other, some nodes of the two trees are overlapped while the others are not.\n",
    "\n",
    "You need to merge them into a new binary tree. The merge rule is that if two nodes overlap, then sum node values up as the new value of the merged node. Otherwise, the NOT null node will be used as the node of new tree.\n",
    "\n",
    "Example 1:\n",
    "Input: "
   ]
  },
  {
   "cell_type": "code",
   "execution_count": null,
   "metadata": {},
   "outputs": [],
   "source": [
    "\tTree 1             Tree 2                  \n",
    "          1             2                             \n",
    "         / \\           / \\                            \n",
    "        3   2         1   3                        \n",
    "       /               \\   \\                      \n",
    "      5                 4   7     "
   ]
  },
  {
   "cell_type": "markdown",
   "metadata": {},
   "source": [
    "Output: \n",
    "Merged tree:"
   ]
  },
  {
   "cell_type": "code",
   "execution_count": null,
   "metadata": {},
   "outputs": [],
   "source": [
    "\t     3\n",
    "\t    / \\\n",
    "\t   4   5\n",
    "\t  / \\   \\ \n",
    "\t 5   4   7"
   ]
  },
  {
   "cell_type": "markdown",
   "metadata": {},
   "source": [
    "Note: The merging process must start from the root nodes of both trees.\n",
    "\n",
    "**难度**：简单， **通过率**：67%"
   ]
  },
  {
   "cell_type": "markdown",
   "metadata": {},
   "source": [
    "### 读题"
   ]
  },
  {
   "cell_type": "markdown",
   "metadata": {},
   "source": [
    "题目要求合并两颗二叉树，如果他们在相同位置的结点都不为空，则将他们的值相加作为新结点值，否则用其中不为空的结点作为新结点。例如示例两颗树根结点的左结点分别是3和1，那么合并后的结点值就是4。Tree1的底层最右侧结点为空，Tree2是7，那么直接用7作为新结点值。"
   ]
  },
  {
   "cell_type": "markdown",
   "metadata": {},
   "source": [
    "### 解题"
   ]
  },
  {
   "cell_type": "markdown",
   "metadata": {},
   "source": [
    "有关树的问题通常会用递归方式求解，本题也不例外。通过直译问题描述即可得到解题思路：\n",
    "\n",
    "从两棵树根节点开始递归：\n",
    "\n",
    "1. 其中一个节点为空，或都为空则返回非空结点或者空（递归终止条件）\n",
    "2. 两个结点相加生成新结点，并且分别递归合并两个左右子树生成新结点左右子树，返回新结点\n",
    "\n",
    "实现代码如下："
   ]
  },
  {
   "cell_type": "code",
   "execution_count": 6,
   "metadata": {},
   "outputs": [],
   "source": [
    "'''\n",
    "class TreeNode:\n",
    "    def __init__(self,value):\n",
    "        self.left  = None\n",
    "        self.right = None\n",
    "        self.val   = value\n",
    "    def link(self, direction, node):\n",
    "        if direction == 'r':\n",
    "            self.right = node\n",
    "        else:\n",
    "            self.left = node\n",
    "'''\n",
    "\n",
    "class Solution:\n",
    "    def mergeTrees(self, t1, t2):\n",
    "        \"\"\"\n",
    "        :type t1: TreeNode\n",
    "        :type t2: TreeNode\n",
    "        :rtype: TreeNode\n",
    "        \"\"\"\n",
    "        # Base case\n",
    "        if t1 is None or t2 is None:\n",
    "            return t1 or t2\n",
    "        \n",
    "        # Recursion\n",
    "        else:\n",
    "            root = TreeNode(t1.val + t2.val)\n",
    "            root.left = self.mergeTrees(t1.left, t2.left)\n",
    "            root.right = self.mergeTrees(t1.right, t2.right)\n",
    "            return root"
   ]
  },
  {
   "cell_type": "markdown",
   "metadata": {},
   "source": [
    "### Python3温习"
   ]
  },
  {
   "cell_type": "markdown",
   "metadata": {},
   "source": [
    "**True False 判断**"
   ]
  },
  {
   "cell_type": "markdown",
   "metadata": {},
   "source": [
    "对于C, C++转过来的程序员可能会觉得奇怪，为什么Solution代码中我们使用t1 is None这样的表达方式验证t1是否为空，而不是t1 == None。\n",
    "<a href=\"https://www.python.org/dev/peps/pep-0008/\">PEP(Python Enhancement Proposals)</a>指出:Comparisons to singletons like None should always be done with 'is' or 'is not', never the equality operators.\n",
    "为什么会有这样的建议准则呢？\n",
    "首先，Python中任何class都能够去实现自己的比较方法，诸如下面的Equal类，实现了自己的__eq__方法，在跟任何对象比较的时候都返回True。那么以为着 e == None也是真，并非我们需要的\"not NULL\"，而 is None的表示方法才是我们本意的 is None。"
   ]
  },
  {
   "cell_type": "code",
   "execution_count": 6,
   "metadata": {},
   "outputs": [
    {
     "name": "stdout",
     "output_type": "stream",
     "text": [
      " None is None \n",
      " None == None \n",
      " <__main__.Equal object at 0x000000000567A748> == None \n"
     ]
    }
   ],
   "source": [
    "class Zero(): # a class that is zero\n",
    "...    def __nonzero__(self):\n",
    "...       return False\n",
    "class Len0(): # a class with zero length\n",
    "...    def __len__(self):\n",
    "...       return 0\n",
    "class Equal(): # a class that is equal to everything\n",
    "...    def __eq__(self, other):\n",
    "...       return True\n",
    "stuff = [None, False, 0, 0, 0.0, 0j, (), [], {}, set(), '', float('NaN'), float('inf'), \n",
    "...          Zero(), Len0(), Equal()]\n",
    "for x in stuff:\n",
    "...  if x is None: print(\" {} is None \".format(x))\n",
    "...  if x==None: print(\" {} == None \".format(x))"
   ]
  },
  {
   "cell_type": "markdown",
   "metadata": {},
   "source": [
    "另外就是速度的原因， 《Python3程序开发指南》中的一句话：\n",
    "\n",
    "“身份比较的一个好处是速度非常快， 这是因为，并不必须对进行比较的对象本身进行检查，is操作符只需要对对对象所在的内存地址进行比较——同样的地址存储的是同样的对象。”\n",
    "\n",
    "因为None是一个特殊的内置的空对象，所以所有的为None的对象都是指向的同一个内存地址的。所以用is None的速度超过== None。"
   ]
  },
  {
   "cell_type": "code",
   "execution_count": null,
   "metadata": {},
   "outputs": [],
   "source": []
  }
 ],
 "metadata": {
  "kernelspec": {
   "display_name": "Python 3",
   "language": "python",
   "name": "python3"
  },
  "language_info": {
   "codemirror_mode": {
    "name": "ipython",
    "version": 3
   },
   "file_extension": ".py",
   "mimetype": "text/x-python",
   "name": "python",
   "nbconvert_exporter": "python",
   "pygments_lexer": "ipython3",
   "version": "3.6.4"
  }
 },
 "nbformat": 4,
 "nbformat_minor": 2
}
