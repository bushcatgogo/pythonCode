{
 "cells": [
  {
   "cell_type": "markdown",
   "metadata": {},
   "source": [
    "## leetcode 617. Merge Two Binary Trees"
   ]
  },
  {
   "cell_type": "markdown",
   "metadata": {},
   "source": [
    "Given two binary trees and imagine that when you put one of them to cover the other, some nodes of the two trees are overlapped while the others are not.\n",
    "\n",
    "You need to merge them into a new binary tree. The merge rule is that if two nodes overlap, then sum node values up as the new value of the merged node. Otherwise, the NOT null node will be used as the node of new tree.\n",
    "\n",
    "Example 1:\n",
    "Input: "
   ]
  },
  {
   "cell_type": "code",
   "execution_count": null,
   "metadata": {},
   "outputs": [],
   "source": [
    "\tTree 1             Tree 2                  \n",
    "          1             2                             \n",
    "         / \\           / \\                            \n",
    "        3   2         1   3                        \n",
    "       /               \\   \\                      \n",
    "      5                 4   7     "
   ]
  },
  {
   "cell_type": "markdown",
   "metadata": {},
   "source": [
    "Output: \n",
    "Merged tree:"
   ]
  },
  {
   "cell_type": "code",
   "execution_count": null,
   "metadata": {},
   "outputs": [],
   "source": [
    "\t     3\n",
    "\t    / \\\n",
    "\t   4   5\n",
    "\t  / \\   \\ \n",
    "\t 5   4   7"
   ]
  },
  {
   "cell_type": "markdown",
   "metadata": {},
   "source": [
    "Note: The merging process must start from the root nodes of both trees.\n",
    "\n",
    "**难度**：简单， **通过率**：67%"
   ]
  },
  {
   "cell_type": "markdown",
   "metadata": {},
   "source": [
    "### 读题"
   ]
  },
  {
   "cell_type": "markdown",
   "metadata": {},
   "source": [
    "题目要求合并两颗二叉树，如果他们在相同位置的结点都不为空，则将他们的值相加作为新结点值，否则用其中不为空的结点作为新结点。例如示例两颗树根结点的左结点分别是3和1，那么合并后的结点值就是4。Tree1的底层最右侧结点为空，Tree2是7，那么直接用7作为新结点值。"
   ]
  },
  {
   "cell_type": "markdown",
   "metadata": {},
   "source": [
    "### 解题"
   ]
  },
  {
   "cell_type": "markdown",
   "metadata": {},
   "source": [
    "有关树的问题通常会用递归方式求解，本题也不例外。通过直译问题描述即可得到解题思路：\n",
    "\n",
    "从两棵树根节点开始递归：\n",
    "\n",
    "1. 其中一个节点为空，或都为空则返回非空结点或者空（递归终止条件）\n",
    "2. 两个结点相加生成新结点，并且分别递归合并两个左右子树生成新结点左右子树，返回新结点\n",
    "\n",
    "实现代码如下："
   ]
  },
  {
   "cell_type": "code",
   "execution_count": 4,
   "metadata": {},
   "outputs": [],
   "source": [
    "class Solution:\n",
    "    def mergeTrees(self, t1, t2):\n",
    "        \"\"\"\n",
    "        :type t1: TreeNode\n",
    "        :type t2: TreeNode\n",
    "        :rtype: TreeNode\n",
    "        \"\"\"\n",
    "        # Base case\n",
    "        if not t1 or not t2:\n",
    "            return t1 or t2\n",
    "        \n",
    "        # Recursion\n",
    "        else:\n",
    "            root = TreeNode(t1.val + t2.val)\n",
    "            root.left = self.mergeTrees(t1.left, t2.left)\n",
    "            root.right = self.mergeTrees(t1.right, t2.right)\n",
    "            return root"
   ]
  },
  {
   "cell_type": "code",
   "execution_count": null,
   "metadata": {},
   "outputs": [],
   "source": []
  }
 ],
 "metadata": {
  "kernelspec": {
   "display_name": "Python 3",
   "language": "python",
   "name": "python3"
  },
  "language_info": {
   "codemirror_mode": {
    "name": "ipython",
    "version": 3
   },
   "file_extension": ".py",
   "mimetype": "text/x-python",
   "name": "python",
   "nbconvert_exporter": "python",
   "pygments_lexer": "ipython3",
   "version": "3.6.4"
  }
 },
 "nbformat": 4,
 "nbformat_minor": 2
}
