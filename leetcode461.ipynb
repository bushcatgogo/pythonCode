{
 "cells": [
  {
   "cell_type": "markdown",
   "metadata": {},
   "source": [
    "## 题目描述"
   ]
  },
  {
   "cell_type": "markdown",
   "metadata": {},
   "source": [
    "The Hamming distance between two integers is the number of positions at which the corresponding bits are different.\n",
    "Given two integers x and y, calculate the Hamming distance.\n",
    "Note:\n",
    "0 ≤ x, y < 231.\n",
    "Example:\n",
    "Input: x = 1, y = 4\n",
    "\n",
    "Output: 2\n",
    "\n",
    "Explanation:\n",
    "1   (0 0 0 1)\n",
    "4   (0 1 0 0)\n",
    "       ↑   ↑\n",
    "\n",
    "The above arrows point to positions where the corresponding bits are different.\n",
    "\n",
    "题目难易度：简单， leetcode提交通过率：69%\n",
    "\n",
    "1. 读题\n",
    "计算输入的两个整形数的汉明距离，即他们的二进制数表示中对应位不同的个数。\n",
    "（汉明距离是以理查德·衛斯里·漢明的名字命名的，汉明在误差检测与校正码的基础性论文中首次引入这个概念。在通信中累计定长二进制字中发生翻转的错误数据位，所以它也被称为信号距离。）\n",
    "汉明距离要求两个相比较的“串”是等长的，而本题的输入是两个整形数，他们在同一个机器上的二进制形式一定就是等长的，并且题目中也给定了他们的长度为32\n",
    "\n",
    "2. 解题\n",
    "这个题目的解决方法很直接了当，根据异或的性质，相同为0， 不同为1，所以按位分别取出两个数字对应位上的数并异或，计算结果中1的个数就是汉明距离了。\n",
    "Python3中我们只需要一行代码即可搞定"
   ]
  },
  {
   "cell_type": "code",
   "execution_count": 3,
   "metadata": {},
   "outputs": [],
   "source": [
    "class Solution1:\n",
    "    def hammingDistance(self, x, y):\n",
    "        \"\"\"\n",
    "        :type x: int\n",
    "        :type y: int\n",
    "        :rtype: int\n",
    "        \"\"\"\n",
    "        return bin(x ^ y).count('1')"
   ]
  },
  {
   "cell_type": "code",
   "execution_count": null,
   "metadata": {},
   "outputs": [],
   "source": [
    "#a. bin(x ^ y) 将两个数异或并转换成二进制格式\n",
    "#b. bin(x ^ y) 计算二进制格式中1的个数\n",
    "\n",
    "该题原本的目的酒馆老板认为应该是要考察异或和如何计算一个二进制数中1的个数这两个知识点。但只因python实在是太方便，第二个知识点直接被忽略掉了。\n",
    "倘若我们是用其他没有count类似系统函数的语言解题，解决方法类似这样："
   ]
  },
  {
   "cell_type": "code",
   "execution_count": 4,
   "metadata": {},
   "outputs": [],
   "source": [
    "class Solution2(object):\n",
    "    def hammingDistance(self, x, y):\n",
    "        \"\"\"\n",
    "        :type x: int\n",
    "        :type y: int\n",
    "        :rtype: int\n",
    "        \"\"\"\n",
    "        x = x ^ y\n",
    "        y = 0\n",
    "        while x:\n",
    "            y += 1\n",
    "            x = x & (x - 1)\n",
    "        return y"
   ]
  },
  {
   "cell_type": "markdown",
   "metadata": {},
   "source": [
    "#a. 计算X ^ y，赋值给x\n",
    "#b. 循环遍历计算x中1的个数\n",
    "\n",
    "这种解法的本质是计算汉明重量\n",
    "（汉明重量是字符串相对于同样长度的零字符串的汉明距离，也就是说，它是字符串中非零的元素个数：对于二进制字符串来说，就是1的个数，所以11101的汉明重量是4）\n",
    "\n",
    "解法中的亮点就是每次循环将x最右边的1置0， 结果累加1： x = x & (x - 1) 直到x为0\n",
    "比如，x当前是 0 1 1 0\n",
    "x         0 1 1 0\n",
    "x - 1     0 1 0 0\n",
    "x&(x-1)   0 1 0 0\n",
    "这种方式在时间效率上要比“将x按位右移计算最低位1的个数”高\n",
    "再来回顾上面一行实现的代码，bin(x ^ y)将异或结果转换成字符串，然后count函数计算1的个数，对于单个字符搜索，count函数能够达到线性时间复杂度，但是第二种方法还是在理论上更优。"
   ]
  },
  {
   "cell_type": "markdown",
   "metadata": {},
   "source": [
    "使用Solution1来测量一下时间："
   ]
  },
  {
   "cell_type": "code",
   "execution_count": 13,
   "metadata": {},
   "outputs": [
    {
     "name": "stdout",
     "output_type": "stream",
     "text": [
      "747 ns ± 9.04 ns per loop (mean ± std. dev. of 7 runs, 1000000 loops each)\n"
     ]
    }
   ],
   "source": [
    "s1 = Solution1()\n",
    "%timeit s1.hammingDistance(5, 9)"
   ]
  },
  {
   "cell_type": "code",
   "execution_count": null,
   "metadata": {},
   "outputs": [],
   "source": [
    "然后使用Solution2来测量执行时间"
   ]
  },
  {
   "cell_type": "code",
   "execution_count": 14,
   "metadata": {},
   "outputs": [
    {
     "name": "stdout",
     "output_type": "stream",
     "text": [
      "715 ns ± 13.9 ns per loop (mean ± std. dev. of 7 runs, 1000000 loops each)\n"
     ]
    }
   ],
   "source": [
    "s2 = Solution2()\n",
    "%timeit s2.hammingDistance(5, 9)"
   ]
  },
  {
   "cell_type": "markdown",
   "metadata": {},
   "source": [
    "可以看到，Solution2 要比Solution1稍微效率高一些\n",
    "酒馆老板想说，理解二进制概念，不忘算法初心，做一个牛逼的python程序猿，干杯~"
   ]
  },
  {
   "cell_type": "code",
   "execution_count": null,
   "metadata": {},
   "outputs": [],
   "source": [
    "3. 小酢一杯，温习Python3语法"
   ]
  },
  {
   "cell_type": "code",
   "execution_count": 15,
   "metadata": {},
   "outputs": [
    {
     "data": {
      "text/plain": [
       "'0b101'"
      ]
     },
     "execution_count": 15,
     "metadata": {},
     "output_type": "execute_result"
    }
   ],
   "source": [
    "#  convert integer number to binary string\n",
    "bin(5)\n",
    "#如果是要做相关的字符串操作，切记前面有'0b'"
   ]
  },
  {
   "cell_type": "code",
   "execution_count": 16,
   "metadata": {},
   "outputs": [
    {
     "data": {
      "text/plain": [
       "57.0"
      ]
     },
     "execution_count": 16,
     "metadata": {},
     "output_type": "execute_result"
    }
   ],
   "source": [
    "# convert integers to floats\n",
    "float(57)"
   ]
  },
  {
   "cell_type": "code",
   "execution_count": 17,
   "metadata": {},
   "outputs": [
    {
     "data": {
      "text/plain": [
       "390"
      ]
     },
     "execution_count": 17,
     "metadata": {},
     "output_type": "execute_result"
    }
   ],
   "source": [
    "# convert floats to integers\n",
    "int(390.8)    # 390 python直接去掉小数部分，不会做上下取整"
   ]
  },
  {
   "cell_type": "code",
   "execution_count": 19,
   "metadata": {},
   "outputs": [
    {
     "name": "stdout",
     "output_type": "stream",
     "text": [
      "2.5\n"
     ]
    }
   ],
   "source": [
    "# 数值计算的类型转换\n",
    "a = 5 / 2     # 结果被转换成浮点数2.5，而不是像C++等语言取整\n",
    "print(a)"
   ]
  },
  {
   "cell_type": "code",
   "execution_count": 20,
   "metadata": {},
   "outputs": [
    {
     "name": "stdout",
     "output_type": "stream",
     "text": [
      "2\n"
     ]
    }
   ],
   "source": [
    "# // 操作符用于向下取整\n",
    "a = 5 // 2    # 2\n",
    "print(a)"
   ]
  },
  {
   "cell_type": "code",
   "execution_count": 21,
   "metadata": {},
   "outputs": [
    {
     "data": {
      "text/plain": [
       "'12'"
      ]
     },
     "execution_count": 21,
     "metadata": {},
     "output_type": "execute_result"
    }
   ],
   "source": [
    "# convert numbers to strings\n",
    "str(12)       # '12'"
   ]
  },
  {
   "cell_type": "code",
   "execution_count": 22,
   "metadata": {},
   "outputs": [
    {
     "name": "stdout",
     "output_type": "stream",
     "text": [
      "str.count('t') :  3\n",
      "str.count('exam', 10, 40) :  1\n",
      "str3.count('aa') :  4\n"
     ]
    }
   ],
   "source": [
    "#!/usr/bin/python3\n",
    "str = \"this is string example for python3\"\n",
    "str2 = \"aaaaaaaa\"\n",
    "sub = 'i'\n",
    "print (\"str.count('t') : \", str.count(sub))\n",
    "sub = 'exam'\n",
    "print (\"str.count('exam', 10, 40) : \", str.count(sub,10,40))\n",
    "#切记count计算时不会有重叠区域!\n",
    "sub = 'aa'\n",
    "print (\"str3.count('aa') : \", str2.count(sub))"
   ]
  },
  {
   "cell_type": "code",
   "execution_count": null,
   "metadata": {},
   "outputs": [],
   "source": []
  }
 ],
 "metadata": {
  "kernelspec": {
   "display_name": "Python 3",
   "language": "python",
   "name": "python3"
  },
  "language_info": {
   "codemirror_mode": {
    "name": "ipython",
    "version": 3
   },
   "file_extension": ".py",
   "mimetype": "text/x-python",
   "name": "python",
   "nbconvert_exporter": "python",
   "pygments_lexer": "ipython3",
   "version": "3.6.3"
  }
 },
 "nbformat": 4,
 "nbformat_minor": 2
}
