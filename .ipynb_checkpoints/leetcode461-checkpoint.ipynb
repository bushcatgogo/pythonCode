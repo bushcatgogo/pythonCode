{
 "cells": [
  {
   "cell_type": "markdown",
   "metadata": {},
   "source": [
    "## leetcode 461 Hamming Distance"
   ]
  },
  {
   "cell_type": "markdown",
   "metadata": {},
   "source": [
    "The Hamming distance between two integers is the number of positions at which the corresponding bits are different.\n",
    "Given two integers x and y, calculate the Hamming distance.\n",
    "Note:\n",
    "0 ≤ x, y < 231.\n",
    "Example:\n",
    "Input: x = 1, y = 4\n",
    "\n",
    "Output: 2\n",
    "\n",
    "Explanation:\n",
    "1   (0 0 0 1)\n",
    "4   (0 1 0 0)\n",
    "       ↑   ↑\n",
    "\n",
    "The above arrows point to positions where the corresponding bits are different.\n",
    "\n",
    "**难度**：简单， **通过率**：69%"
   ]
  },
  {
   "cell_type": "markdown",
   "metadata": {},
   "source": [
    "## 读题"
   ]
  },
  {
   "cell_type": "markdown",
   "metadata": {},
   "source": [
    "计算输入的两个整形数的**汉明距离**，即他们的二进制数表示中对应位不同的个数。\n",
    ">**汉明距离** 是以理查德·衛斯里·漢明的名字命名的，汉明在误差检测与校正码的基础性论文中首次引入这个概念。在通信中累计定长二进制字中发生翻转的错误数据位，所以它也被称为信号距离。汉明距离要求两个相比较的“串”是等长的，\n",
    "\n",
    "本题的输入是两个整形数，他们在同一个机器上的二进制形式一定是等长"
   ]
  },
  {
   "cell_type": "markdown",
   "metadata": {},
   "source": [
    "## 解题"
   ]
  },
  {
   "cell_type": "markdown",
   "metadata": {},
   "source": [
    "本题解决方法可以说是直接了当，根据异或的性质，相同为0， 不同为1，所以按位分别取出两个数字对应位上的数并异或，计算结果中1的个数就是汉明距离了。\n",
    "Python3中我们只需要一行代码即可实现"
   ]
  },
  {
   "cell_type": "code",
   "execution_count": 26,
   "metadata": {},
   "outputs": [],
   "source": [
    "class Solution1:\n",
    "    def hammingDistance(self, x, y):\n",
    "        \"\"\"\n",
    "        :type x: int\n",
    "        :type y: int\n",
    "        :rtype: int\n",
    "        \"\"\"\n",
    "        # bin(x ^ y) 将两个数异或并转换成二进制格式\n",
    "        # count('1') 计算二进制格式中1的个数\n",
    "        return bin(x ^ y).count('1')"
   ]
  },
  {
   "cell_type": "markdown",
   "metadata": {},
   "source": [
    "固然string的count()函数非常方便，但是从执行效率来看，简洁的代码并不意味着是最优解，利用**汉明重量**的概念，能够实现比count()有更优效率的解\n",
    ">**汉明重量** 是字符串相对于同样长度的零字符串的汉明距离，也就是说，它是字符串中非零的元素个数：对于二进制字符串来说，就是1的个数，所以11101的汉明重量是4）\n",
    "\n",
    "如何计算二进制数中1的个数？最简单的方法是位移和计数:"
   ]
  },
  {
   "cell_type": "code",
   "execution_count": 13,
   "metadata": {},
   "outputs": [],
   "source": [
    "def countInBin(x):\n",
    "    \"\"\"\n",
    "    :type x: int\n",
    "    \"\"\"\n",
    "    res = 0\n",
    "    while x:\n",
    "        res += x & 1\n",
    "        x >>= 1\n",
    "        \n",
    "    return res"
   ]
  },
  {
   "cell_type": "markdown",
   "metadata": {},
   "source": [
    "但还有一种更快速的方法\n",
    "不断利用**x&(x-1)**清除x的二进制表示中最右边1，同时累加计数，直至x为0"
   ]
  },
  {
   "cell_type": "code",
   "execution_count": 20,
   "metadata": {},
   "outputs": [],
   "source": [
    "#例如\n",
    "#x         0 1 1 0\n",
    "#x - 1     0 1 0 0\n",
    "#x&(x-1)   0 1 0 0"
   ]
  },
  {
   "cell_type": "markdown",
   "metadata": {},
   "source": [
    "我们利用这种思想实现Solution2"
   ]
  },
  {
   "cell_type": "code",
   "execution_count": 25,
   "metadata": {},
   "outputs": [],
   "source": [
    "class Solution2(object):\n",
    "    def hammingDistance(self, x, y):\n",
    "        \"\"\"\n",
    "        :type x: int\n",
    "        :type y: int\n",
    "        :rtype: int\n",
    "        \"\"\"\n",
    "        x = x ^ y\n",
    "        y = 0\n",
    "        while x:\n",
    "            y += 1\n",
    "            x = x & (x - 1)\n",
    "        return y"
   ]
  },
  {
   "cell_type": "markdown",
   "metadata": {},
   "source": [
    "## 性能分析"
   ]
  },
  {
   "cell_type": "markdown",
   "metadata": {},
   "source": [
    "**Solution1**使用string的系统函数count()对单个字符计数，通过native实现能够达到线性时间，但**Solution2**比线性时间更优，他只依赖于x二进制表示中1的个数，而不是其总长度"
   ]
  },
  {
   "cell_type": "markdown",
   "metadata": {},
   "source": [
    "测量Solution1执行效率："
   ]
  },
  {
   "cell_type": "code",
   "execution_count": 28,
   "metadata": {},
   "outputs": [
    {
     "name": "stdout",
     "output_type": "stream",
     "text": [
      "715 ns ± 7 ns per loop (mean ± std. dev. of 7 runs, 1000000 loops each)\n"
     ]
    }
   ],
   "source": [
    "s1 = Solution1()\n",
    "%timeit s1.hammingDistance(19873948, 29836574)"
   ]
  },
  {
   "cell_type": "markdown",
   "metadata": {},
   "source": [
    "然后使用Solution2来测量执行时间"
   ]
  },
  {
   "cell_type": "code",
   "execution_count": 29,
   "metadata": {},
   "outputs": [
    {
     "name": "stdout",
     "output_type": "stream",
     "text": [
      "1.75 µs ± 78.2 ns per loop (mean ± std. dev. of 7 runs, 100000 loops each)\n"
     ]
    }
   ],
   "source": [
    "s2 = Solution2()\n",
    "%timeit s2.hammingDistance(19873948, 29836574)"
   ]
  },
  {
   "cell_type": "markdown",
   "metadata": {},
   "source": [
    "结果证明，**Solution2** 显著优于 **Solution1**"
   ]
  },
  {
   "cell_type": "markdown",
   "metadata": {},
   "source": [
    "## Python3语法温习"
   ]
  },
  {
   "cell_type": "markdown",
   "metadata": {},
   "source": [
    "**进制转换为字符串**"
   ]
  },
  {
   "cell_type": "code",
   "execution_count": 8,
   "metadata": {},
   "outputs": [
    {
     "name": "stdout",
     "output_type": "stream",
     "text": [
      "0b1001\n",
      "0o11\n",
      "0xa\n"
     ]
    }
   ],
   "source": [
    "# convert integer number to binary string\n",
    "print(bin(9))\n",
    "# convert integer number to oct string\n",
    "print(oct(9))\n",
    "# convert integer number to hex string\n",
    "print(hex(10))"
   ]
  },
  {
   "cell_type": "markdown",
   "metadata": {},
   "source": [
    "在对转换后的字符串做任何操作时，不要忘记它们有0b, 0o或者0xa前缀。"
   ]
  },
  {
   "cell_type": "markdown",
   "metadata": {},
   "source": [
    "倘若传入这些转换函数的参数是自定义对象，需要为对象实现__index__函数并且返回整数"
   ]
  },
  {
   "cell_type": "code",
   "execution_count": 12,
   "metadata": {},
   "outputs": [
    {
     "name": "stdout",
     "output_type": "stream",
     "text": [
      "0b1001\n",
      "0o11\n",
      "0x9\n"
     ]
    }
   ],
   "source": [
    "# pass self-defined object to bin()\n",
    "class A(object):\n",
    "    def __index__(self):\n",
    "        return 9\n",
    "\n",
    "t = A()\n",
    "print(bin(t))\n",
    "print(oct(t))\n",
    "print(hex(t))"
   ]
  },
  {
   "cell_type": "code",
   "execution_count": 21,
   "metadata": {},
   "outputs": [
    {
     "data": {
      "text/plain": [
       "'12'"
      ]
     },
     "execution_count": 21,
     "metadata": {},
     "output_type": "execute_result"
    }
   ],
   "source": [
    "# convert numbers to strings\n",
    "str(12)       # '12'"
   ]
  },
  {
   "cell_type": "markdown",
   "metadata": {},
   "source": [
    "**字符串count()函数**"
   ]
  },
  {
   "cell_type": "code",
   "execution_count": 22,
   "metadata": {},
   "outputs": [
    {
     "name": "stdout",
     "output_type": "stream",
     "text": [
      "str.count('t') :  3\n",
      "str.count('exam', 10, 40) :  1\n",
      "str3.count('aa') :  4\n"
     ]
    }
   ],
   "source": [
    "str = \"this is string example for python3\"\n",
    "str2 = \"aaaaaaaa\"\n",
    "sub = 'i'\n",
    "print (\"str.count('t') : \", str.count(sub))\n",
    "sub = 'exam'\n",
    "print (\"str.count('exam', 10, 40) : \", str.count(sub,10,40))\n",
    "#切记count计算时不会有重叠区域!\n",
    "sub = 'aa'\n",
    "print (\"str3.count('aa') : \", str2.count(sub))"
   ]
  },
  {
   "cell_type": "code",
   "execution_count": null,
   "metadata": {},
   "outputs": [],
   "source": []
  }
 ],
 "metadata": {
  "kernelspec": {
   "display_name": "Python 3",
   "language": "python",
   "name": "python3"
  },
  "language_info": {
   "codemirror_mode": {
    "name": "ipython",
    "version": 3
   },
   "file_extension": ".py",
   "mimetype": "text/x-python",
   "name": "python",
   "nbconvert_exporter": "python",
   "pygments_lexer": "ipython3",
   "version": "3.6.4"
  }
 },
 "nbformat": 4,
 "nbformat_minor": 2
}
